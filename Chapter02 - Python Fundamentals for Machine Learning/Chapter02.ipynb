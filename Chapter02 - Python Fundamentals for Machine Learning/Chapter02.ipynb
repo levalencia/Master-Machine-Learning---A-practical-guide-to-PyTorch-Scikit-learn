{
 "cells": [
  {
   "cell_type": "markdown",
   "metadata": {},
   "source": [
    "## Data types\n",
    "\n",
    "# Int"
   ]
  },
  {
   "cell_type": "code",
   "execution_count": 1,
   "metadata": {},
   "outputs": [],
   "source": [
    "page = 30        # Integer\n",
    "price = 29.99    # Float\n"
   ]
  },
  {
   "cell_type": "markdown",
   "metadata": {},
   "source": [
    "## Strings"
   ]
  },
  {
   "cell_type": "code",
   "execution_count": 4,
   "metadata": {},
   "outputs": [],
   "source": [
    "name = \"Alice\"  \n",
    "message = 'Hello, world'\n"
   ]
  },
  {
   "cell_type": "markdown",
   "metadata": {},
   "source": [
    "## Booelans"
   ]
  },
  {
   "cell_type": "code",
   "execution_count": 5,
   "metadata": {},
   "outputs": [],
   "source": [
    "is_student = True\n",
    "is_raining = False\n"
   ]
  },
  {
   "cell_type": "markdown",
   "metadata": {},
   "source": [
    "## Lists"
   ]
  },
  {
   "cell_type": "code",
   "execution_count": 6,
   "metadata": {},
   "outputs": [],
   "source": [
    "numbers = [1, 2, 3, 4]\n",
    "fruits = [\"apple\", \"banana\", \"orange\"]\n"
   ]
  },
  {
   "cell_type": "markdown",
   "metadata": {},
   "source": [
    "## Dictionaries"
   ]
  },
  {
   "cell_type": "code",
   "execution_count": 7,
   "metadata": {},
   "outputs": [],
   "source": [
    "person = {\"name\": \"Bob\", \"age\": 25, \"city\": \"New York\"}"
   ]
  },
  {
   "cell_type": "markdown",
   "metadata": {},
   "source": [
    "## Sets"
   ]
  },
  {
   "cell_type": "code",
   "execution_count": 8,
   "metadata": {},
   "outputs": [],
   "source": [
    "unique_numbers = {5, 1, 3, 1, 7}  "
   ]
  },
  {
   "cell_type": "markdown",
   "metadata": {},
   "source": [
    "## Tuples"
   ]
  },
  {
   "cell_type": "code",
   "execution_count": 9,
   "metadata": {},
   "outputs": [],
   "source": [
    "coordinates = (10, 20)"
   ]
  },
  {
   "cell_type": "markdown",
   "metadata": {},
   "source": [
    "## Conditional Statements"
   ]
  },
  {
   "cell_type": "code",
   "execution_count": 10,
   "metadata": {},
   "outputs": [
    {
     "name": "stdout",
     "output_type": "stream",
     "text": [
      "Model is performing well\n"
     ]
    }
   ],
   "source": [
    "accuracy = 0.91\n",
    "if accuracy > 0.9:\n",
    "    print(\"Model is performing well\")\n",
    "elif accuracy > 0.8:\n",
    "    print(\"Model needs improvement\")\n",
    "else:\n",
    "    print(\"Model is underperforming\")\n"
   ]
  },
  {
   "cell_type": "markdown",
   "metadata": {},
   "source": [
    "## For loops"
   ]
  },
  {
   "cell_type": "code",
   "execution_count": 12,
   "metadata": {},
   "outputs": [
    {
     "name": "stdout",
     "output_type": "stream",
     "text": [
      "Training\n",
      "Training\n",
      "Training\n",
      "Training\n",
      "Training\n",
      "Training\n",
      "Training\n",
      "Training\n",
      "Training\n",
      "Training\n"
     ]
    }
   ],
   "source": [
    "for epoch in range(10):  # Train for 10 epochs\n",
    "    print(\"Training\")\n",
    "    #train_model(data)\n"
   ]
  },
  {
   "cell_type": "markdown",
   "metadata": {},
   "source": [
    "## While loops"
   ]
  },
  {
   "cell_type": "code",
   "execution_count": 14,
   "metadata": {},
   "outputs": [],
   "source": [
    "loss = 0.01\n",
    "while loss > 0.1:  # Train until the loss is below 0.1\n",
    "\tprint(\"Training\")\n",
    "    #train_model(data)\n"
   ]
  },
  {
   "cell_type": "markdown",
   "metadata": {},
   "source": [
    "## Functions"
   ]
  },
  {
   "cell_type": "code",
   "execution_count": 15,
   "metadata": {},
   "outputs": [],
   "source": [
    "def preprocess_data(data):\n",
    "    # Data cleaning and transformation steps\n",
    "    processed_data = 'processed_data'\n",
    "    \n",
    "    return processed_data\n",
    "\t\n",
    "def calculate_accuracy(y_true, y_pred):\n",
    "    # Accuracy calculation logic\n",
    "    accuracy=0.99\n",
    "    return accuracy\n"
   ]
  },
  {
   "cell_type": "markdown",
   "metadata": {},
   "source": [
    "## Lambda functions"
   ]
  },
  {
   "cell_type": "code",
   "execution_count": 24,
   "metadata": {},
   "outputs": [],
   "source": [
    "def double(x):\n",
    "    return x * 2\n"
   ]
  },
  {
   "cell_type": "code",
   "execution_count": null,
   "metadata": {},
   "outputs": [
    {
     "name": "stdout",
     "output_type": "stream",
     "text": [
      "8\n"
     ]
    }
   ],
   "source": [
    "x= 4\n",
    "y = lambda x: x * 2\n",
    "print(y(x))"
   ]
  },
  {
   "cell_type": "markdown",
   "metadata": {},
   "source": [
    "## Sorting"
   ]
  },
  {
   "cell_type": "code",
   "execution_count": 28,
   "metadata": {},
   "outputs": [],
   "source": [
    "points = [(1, 2), (3, 4), (-1, -1)]\n",
    "sorted_points = sorted(points, key=lambda x: x[0]**2 + x[1]**2)  \n"
   ]
  },
  {
   "cell_type": "markdown",
   "metadata": {},
   "source": [
    "## Lists"
   ]
  },
  {
   "cell_type": "code",
   "execution_count": 29,
   "metadata": {},
   "outputs": [],
   "source": [
    "# Example: Storing training data\n",
    "data = [\n",
    "    [0.2, 0.5, 0.8, 1],  # Features, Label \n",
    "    [0.1, 0.3, 0.6, 0],\n",
    "    [0.3, 0.7, 0.9, 1]\n",
    "]\n"
   ]
  },
  {
   "cell_type": "markdown",
   "metadata": {},
   "source": [
    "## Indexing and slicing"
   ]
  },
  {
   "cell_type": "code",
   "execution_count": 30,
   "metadata": {},
   "outputs": [],
   "source": [
    "first_data_point = data[0]         # Access the first data point\n",
    "features = first_data_point[:-1]   # Slice to get features \n",
    "label = first_data_point[-1]       # Get the last element (label)\n"
   ]
  },
  {
   "cell_type": "markdown",
   "metadata": {},
   "source": [
    "## List methods"
   ]
  },
  {
   "cell_type": "code",
   "execution_count": 31,
   "metadata": {},
   "outputs": [],
   "source": [
    "# Example: Modifying a list of labels\n",
    "labels = [1, 0, 1]\n",
    "labels.append(2)         # Add a new label\n",
    "labels.insert(1, 3)       # Insert a label at index 1\n",
    "labels.remove(1)         # Remove the first occurrence of 1\n",
    "removed_label = labels.pop()  # Remove the last label (2) and store it\n"
   ]
  },
  {
   "cell_type": "markdown",
   "metadata": {},
   "source": [
    "## List comprehensions"
   ]
  },
  {
   "cell_type": "code",
   "execution_count": 32,
   "metadata": {},
   "outputs": [],
   "source": [
    "# Example: Squaring each element in a list\n",
    "numbers = [1, 2, 3, 4]\n",
    "squared_numbers = [x**2 for x in numbers]  # [1, 4, 9, 16]\n"
   ]
  },
  {
   "cell_type": "markdown",
   "metadata": {},
   "source": [
    "## Dictionaries"
   ]
  },
  {
   "cell_type": "code",
   "execution_count": 33,
   "metadata": {},
   "outputs": [],
   "source": [
    "# Example: Storing model hyperparameters\n",
    "model_params = {\"learning_rate\": 0.01, \"batch_size\": 32, \"epochs\": 10}\n"
   ]
  },
  {
   "cell_type": "code",
   "execution_count": 34,
   "metadata": {},
   "outputs": [],
   "source": [
    "learning_rate = model_params[\"learning_rate\"]  # Access learning rate"
   ]
  },
  {
   "cell_type": "code",
   "execution_count": 35,
   "metadata": {},
   "outputs": [],
   "source": [
    "model_params[\"optimizer\"] = \"adam\"  # Add a new hyperparameter\n",
    "model_params[\"epochs\"] = 15        # Modify the number of epochs\n"
   ]
  },
  {
   "cell_type": "code",
   "execution_count": 36,
   "metadata": {},
   "outputs": [
    {
     "name": "stdout",
     "output_type": "stream",
     "text": [
      "learning_rate: 0.01\n",
      "batch_size: 32\n",
      "epochs: 15\n",
      "optimizer: adam\n"
     ]
    }
   ],
   "source": [
    "all_keys = model_params.keys()     # Get all keys\n",
    "all_values = model_params.values() # Get all values\n",
    "for key, value in model_params.items():  # Iterate over key-value pairs\n",
    "    print(f\"{key}: {value}\")\n"
   ]
  },
  {
   "cell_type": "markdown",
   "metadata": {},
   "source": [
    "## Sets"
   ]
  },
  {
   "cell_type": "code",
   "execution_count": 37,
   "metadata": {},
   "outputs": [],
   "source": [
    "# Example: Creating sets of features\n",
    "features_set1 = {1, 2, 3}\n",
    "features_set2 = set([2, 3, 4])\n"
   ]
  },
  {
   "cell_type": "code",
   "execution_count": 38,
   "metadata": {},
   "outputs": [],
   "source": [
    "all_features = features_set1 | features_set2  #Union: {1, 2, 3, 4}\n",
    "common_features = features_set1 & features_set2 #Intersection: {2, 3}\n",
    "unique_to_set1 = features_set1 - features_set2  # Difference: {1}\n"
   ]
  },
  {
   "cell_type": "markdown",
   "metadata": {},
   "source": [
    "##  Tuples"
   ]
  },
  {
   "cell_type": "code",
   "execution_count": 39,
   "metadata": {},
   "outputs": [],
   "source": [
    "# Example: Representing a data point with features and a label\n",
    "data_point = ([0.2, 0.5, 0.8], 1)  # Features: [0.2, 0.5, 0.8], Label: 1\n"
   ]
  },
  {
   "cell_type": "code",
   "execution_count": 40,
   "metadata": {},
   "outputs": [],
   "source": [
    "# Tuple packing\n",
    "point = (10, 20)  # Packing two values into a tuple\n",
    "\t\n",
    "# Tuple unpacking\n",
    "x, y = point      # Unpacking the values into x and y\n"
   ]
  },
  {
   "cell_type": "code",
   "execution_count": 41,
   "metadata": {},
   "outputs": [],
   "source": [
    "# Example: Using a tuple as a dictionary key\n",
    "image_data = {\n",
    "    (1280, 720): \"HD image\",\n",
    "    (1920, 1080): \"Full HD image\"\n",
    "}\n"
   ]
  },
  {
   "cell_type": "markdown",
   "metadata": {},
   "source": [
    "## Handling errors and exceptions"
   ]
  },
  {
   "cell_type": "code",
   "execution_count": 42,
   "metadata": {},
   "outputs": [
    {
     "name": "stdout",
     "output_type": "stream",
     "text": [
      "Error: Division by zero\n"
     ]
    }
   ],
   "source": [
    "try:\n",
    "    result = 10 / 0  # This will raise a ZeroDivisionError\n",
    "except ZeroDivisionError:\n",
    "    print(\"Error: Division by zero\")\n",
    "    result = float('inf')  # Handle the error by setting result to infinity\n"
   ]
  },
  {
   "cell_type": "code",
   "execution_count": 43,
   "metadata": {},
   "outputs": [],
   "source": [
    "def validate_input(x):\n",
    "    if x < 0:\n",
    "        raise ValueError(\"Input must be a non-negative number\")\n",
    "\n",
    "    try:\n",
    "       validate_input(-5)\n",
    "    except ValueError as e:\n",
    "       print(e)  # Print the error message\n"
   ]
  },
  {
   "cell_type": "markdown",
   "metadata": {},
   "source": [
    "## Code organization"
   ]
  },
  {
   "cell_type": "code",
   "execution_count": 44,
   "metadata": {},
   "outputs": [],
   "source": [
    "# main.py or just any jupyter notebook\n",
    "\n",
    "import data_preprocessing\n",
    "\t\n",
    "data = 1  # Your raw data\n",
    "normalized_data = data_preprocessing.normalize_data(data)\n"
   ]
  },
  {
   "cell_type": "code",
   "execution_count": 45,
   "metadata": {},
   "outputs": [],
   "source": [
    "# main.py or just any jupyter notebook\n",
    "\n",
    "from my_ml_tools import data_preprocessing \n",
    "\n",
    "data =2 \n",
    "normalized_data = data_preprocessing.normalize_data(data)\n"
   ]
  },
  {
   "cell_type": "markdown",
   "metadata": {},
   "source": [
    "## Importing libraries"
   ]
  },
  {
   "cell_type": "code",
   "execution_count": 46,
   "metadata": {},
   "outputs": [],
   "source": [
    "import math\n",
    "import random\n",
    "import os\n"
   ]
  },
  {
   "cell_type": "code",
   "execution_count": 48,
   "metadata": {},
   "outputs": [
    {
     "name": "stdout",
     "output_type": "stream",
     "text": [
      "Requirement already satisfied: pandas in g:\\my drive\\book1\\master-machine-learning---a-practical-guide-to-pytorch-scikit-learn\\.venv\\lib\\site-packages (2.2.2)Note: you may need to restart the kernel to use updated packages.\n"
     ]
    },
    {
     "name": "stderr",
     "output_type": "stream",
     "text": [
      "WARNING: Retrying (Retry(total=4, connect=None, read=None, redirect=None, status=None)) after connection broken by 'SSLError(SSLEOFError(8, '[SSL: UNEXPECTED_EOF_WHILE_READING] EOF occurred in violation of protocol (_ssl.c:1000)'))': /simple/matplotlib/\n"
     ]
    },
    {
     "name": "stdout",
     "output_type": "stream",
     "text": [
      "\n",
      "Collecting matplotlib\n",
      "  Using cached matplotlib-3.9.0-cp312-cp312-win_amd64.whl.metadata (11 kB)\n",
      "Collecting scikit-learn\n",
      "  Using cached scikit_learn-1.5.0-cp312-cp312-win_amd64.whl.metadata (11 kB)\n",
      "Collecting torch\n",
      "  Downloading torch-2.3.1-cp312-cp312-win_amd64.whl.metadata (26 kB)\n",
      "Requirement already satisfied: numpy>=1.26.0 in g:\\my drive\\book1\\master-machine-learning---a-practical-guide-to-pytorch-scikit-learn\\.venv\\lib\\site-packages (from pandas) (1.26.4)\n",
      "Requirement already satisfied: python-dateutil>=2.8.2 in g:\\my drive\\book1\\master-machine-learning---a-practical-guide-to-pytorch-scikit-learn\\.venv\\lib\\site-packages (from pandas) (2.9.0.post0)\n",
      "Requirement already satisfied: pytz>=2020.1 in g:\\my drive\\book1\\master-machine-learning---a-practical-guide-to-pytorch-scikit-learn\\.venv\\lib\\site-packages (from pandas) (2024.1)\n",
      "Requirement already satisfied: tzdata>=2022.7 in g:\\my drive\\book1\\master-machine-learning---a-practical-guide-to-pytorch-scikit-learn\\.venv\\lib\\site-packages (from pandas) (2024.1)\n",
      "Collecting contourpy>=1.0.1 (from matplotlib)\n",
      "  Using cached contourpy-1.2.1-cp312-cp312-win_amd64.whl.metadata (5.8 kB)\n",
      "Requirement already satisfied: cycler>=0.10 in g:\\my drive\\book1\\master-machine-learning---a-practical-guide-to-pytorch-scikit-learn\\.venv\\lib\\site-packages (from matplotlib) (0.12.1)\n",
      "Requirement already satisfied: fonttools>=4.22.0 in g:\\my drive\\book1\\master-machine-learning---a-practical-guide-to-pytorch-scikit-learn\\.venv\\lib\\site-packages (from matplotlib) (4.53.0)\n",
      "Requirement already satisfied: kiwisolver>=1.3.1 in g:\\my drive\\book1\\master-machine-learning---a-practical-guide-to-pytorch-scikit-learn\\.venv\\lib\\site-packages (from matplotlib) (1.4.5)\n",
      "Requirement already satisfied: packaging>=20.0 in g:\\my drive\\book1\\master-machine-learning---a-practical-guide-to-pytorch-scikit-learn\\.venv\\lib\\site-packages (from matplotlib) (24.1)\n",
      "Requirement already satisfied: pillow>=8 in g:\\my drive\\book1\\master-machine-learning---a-practical-guide-to-pytorch-scikit-learn\\.venv\\lib\\site-packages (from matplotlib) (10.3.0)\n",
      "Requirement already satisfied: pyparsing>=2.3.1 in g:\\my drive\\book1\\master-machine-learning---a-practical-guide-to-pytorch-scikit-learn\\.venv\\lib\\site-packages (from matplotlib) (3.1.2)\n",
      "Requirement already satisfied: scipy>=1.6.0 in g:\\my drive\\book1\\master-machine-learning---a-practical-guide-to-pytorch-scikit-learn\\.venv\\lib\\site-packages (from scikit-learn) (1.13.1)\n",
      "Requirement already satisfied: joblib>=1.2.0 in g:\\my drive\\book1\\master-machine-learning---a-practical-guide-to-pytorch-scikit-learn\\.venv\\lib\\site-packages (from scikit-learn) (1.4.2)\n",
      "Requirement already satisfied: threadpoolctl>=3.1.0 in g:\\my drive\\book1\\master-machine-learning---a-practical-guide-to-pytorch-scikit-learn\\.venv\\lib\\site-packages (from scikit-learn) (3.5.0)\n",
      "Collecting filelock (from torch)\n",
      "  Downloading filelock-3.14.0-py3-none-any.whl.metadata (2.8 kB)\n",
      "Collecting typing-extensions>=4.8.0 (from torch)\n",
      "  Downloading typing_extensions-4.12.2-py3-none-any.whl.metadata (3.0 kB)\n",
      "Collecting sympy (from torch)\n",
      "  Downloading sympy-1.12.1-py3-none-any.whl.metadata (12 kB)\n",
      "Collecting networkx (from torch)\n",
      "  Downloading networkx-3.3-py3-none-any.whl.metadata (5.1 kB)\n",
      "Requirement already satisfied: jinja2 in g:\\my drive\\book1\\master-machine-learning---a-practical-guide-to-pytorch-scikit-learn\\.venv\\lib\\site-packages (from torch) (3.1.4)\n",
      "Collecting fsspec (from torch)\n",
      "  Downloading fsspec-2024.6.0-py3-none-any.whl.metadata (11 kB)\n",
      "Collecting mkl<=2021.4.0,>=2021.1.1 (from torch)\n",
      "  Downloading mkl-2021.4.0-py2.py3-none-win_amd64.whl.metadata (1.4 kB)\n",
      "Collecting intel-openmp==2021.* (from mkl<=2021.4.0,>=2021.1.1->torch)\n",
      "  Downloading intel_openmp-2021.4.0-py2.py3-none-win_amd64.whl.metadata (1.2 kB)\n",
      "Collecting tbb==2021.* (from mkl<=2021.4.0,>=2021.1.1->torch)\n",
      "  Downloading tbb-2021.12.0-py3-none-win_amd64.whl.metadata (1.1 kB)\n",
      "Requirement already satisfied: six>=1.5 in g:\\my drive\\book1\\master-machine-learning---a-practical-guide-to-pytorch-scikit-learn\\.venv\\lib\\site-packages (from python-dateutil>=2.8.2->pandas) (1.16.0)\n",
      "Requirement already satisfied: MarkupSafe>=2.0 in g:\\my drive\\book1\\master-machine-learning---a-practical-guide-to-pytorch-scikit-learn\\.venv\\lib\\site-packages (from jinja2->torch) (2.1.5)\n",
      "Collecting mpmath<1.4.0,>=1.1.0 (from sympy->torch)\n",
      "  Downloading mpmath-1.3.0-py3-none-any.whl.metadata (8.6 kB)\n",
      "Using cached matplotlib-3.9.0-cp312-cp312-win_amd64.whl (8.0 MB)\n",
      "Using cached scikit_learn-1.5.0-cp312-cp312-win_amd64.whl (10.9 MB)\n",
      "Downloading torch-2.3.1-cp312-cp312-win_amd64.whl (159.7 MB)\n",
      "   ---------------------------------------- 0.0/159.7 MB ? eta -:--:--\n",
      "   ---------------------------------------- 1.0/159.7 MB 21.6 MB/s eta 0:00:08\n",
      "   ---------------------------------------- 1.8/159.7 MB 19.0 MB/s eta 0:00:09\n",
      "    --------------------------------------- 2.4/159.7 MB 17.2 MB/s eta 0:00:10\n",
      "    --------------------------------------- 3.4/159.7 MB 18.1 MB/s eta 0:00:09\n",
      "    --------------------------------------- 3.7/159.7 MB 15.6 MB/s eta 0:00:10\n",
      "   - -------------------------------------- 4.6/159.7 MB 17.3 MB/s eta 0:00:09\n",
      "   - -------------------------------------- 5.2/159.7 MB 15.7 MB/s eta 0:00:10\n",
      "   - -------------------------------------- 6.2/159.7 MB 17.2 MB/s eta 0:00:09\n",
      "   - -------------------------------------- 6.8/159.7 MB 16.1 MB/s eta 0:00:10\n",
      "   - -------------------------------------- 7.7/159.7 MB 16.3 MB/s eta 0:00:10\n",
      "   -- ------------------------------------- 8.1/159.7 MB 15.7 MB/s eta 0:00:10\n",
      "   -- ------------------------------------- 8.5/159.7 MB 15.1 MB/s eta 0:00:11\n",
      "   -- ------------------------------------- 9.3/159.7 MB 15.6 MB/s eta 0:00:10\n",
      "   -- ------------------------------------- 9.6/159.7 MB 14.7 MB/s eta 0:00:11\n",
      "   -- ------------------------------------- 10.4/159.7 MB 14.9 MB/s eta 0:00:11\n",
      "   -- ------------------------------------- 11.2/159.7 MB 14.6 MB/s eta 0:00:11\n",
      "   -- ------------------------------------- 11.9/159.7 MB 14.9 MB/s eta 0:00:10\n",
      "   --- ------------------------------------ 12.9/159.7 MB 15.2 MB/s eta 0:00:10\n",
      "   --- ------------------------------------ 13.8/159.7 MB 15.6 MB/s eta 0:00:10\n",
      "   --- ------------------------------------ 14.6/159.7 MB 15.6 MB/s eta 0:00:10\n",
      "   --- ------------------------------------ 15.4/159.7 MB 16.0 MB/s eta 0:00:10\n",
      "   ---- ----------------------------------- 16.2/159.7 MB 15.6 MB/s eta 0:00:10\n",
      "   ---- ----------------------------------- 17.1/159.7 MB 16.0 MB/s eta 0:00:09\n",
      "   ---- ----------------------------------- 17.4/159.7 MB 15.6 MB/s eta 0:00:10\n",
      "   ---- ----------------------------------- 18.2/159.7 MB 15.6 MB/s eta 0:00:10\n",
      "   ---- ----------------------------------- 18.9/159.7 MB 16.0 MB/s eta 0:00:09\n",
      "   ---- ----------------------------------- 19.5/159.7 MB 16.8 MB/s eta 0:00:09\n",
      "   ----- ---------------------------------- 20.4/159.7 MB 16.8 MB/s eta 0:00:09\n",
      "   ----- ---------------------------------- 21.0/159.7 MB 16.0 MB/s eta 0:00:09\n",
      "   ----- ---------------------------------- 21.5/159.7 MB 16.4 MB/s eta 0:00:09\n",
      "   ----- ---------------------------------- 22.0/159.7 MB 15.6 MB/s eta 0:00:09\n",
      "   ----- ---------------------------------- 22.8/159.7 MB 15.6 MB/s eta 0:00:09\n",
      "   ----- ---------------------------------- 23.7/159.7 MB 15.6 MB/s eta 0:00:09\n",
      "   ------ --------------------------------- 24.5/159.7 MB 15.2 MB/s eta 0:00:09\n",
      "   ------ --------------------------------- 25.4/159.7 MB 15.6 MB/s eta 0:00:09\n",
      "   ------ --------------------------------- 26.2/159.7 MB 15.2 MB/s eta 0:00:09\n",
      "   ------ --------------------------------- 26.7/159.7 MB 15.2 MB/s eta 0:00:09\n",
      "   ------ --------------------------------- 27.1/159.7 MB 14.9 MB/s eta 0:00:09\n",
      "   ------ --------------------------------- 27.6/159.7 MB 14.9 MB/s eta 0:00:09\n",
      "   ------- -------------------------------- 28.3/159.7 MB 14.6 MB/s eta 0:00:10\n",
      "   ------- -------------------------------- 29.3/159.7 MB 15.6 MB/s eta 0:00:09\n",
      "   ------- -------------------------------- 30.1/159.7 MB 15.2 MB/s eta 0:00:09\n",
      "   ------- -------------------------------- 31.1/159.7 MB 15.6 MB/s eta 0:00:09\n",
      "   ------- -------------------------------- 31.7/159.7 MB 16.4 MB/s eta 0:00:08\n",
      "   -------- ------------------------------- 32.5/159.7 MB 16.4 MB/s eta 0:00:08\n",
      "   -------- ------------------------------- 33.4/159.7 MB 16.4 MB/s eta 0:00:08\n",
      "   -------- ------------------------------- 34.3/159.7 MB 16.8 MB/s eta 0:00:08\n",
      "   -------- ------------------------------- 34.9/159.7 MB 16.0 MB/s eta 0:00:08\n",
      "   -------- ------------------------------- 35.9/159.7 MB 16.8 MB/s eta 0:00:08\n",
      "   --------- ------------------------------ 36.6/159.7 MB 16.4 MB/s eta 0:00:08\n",
      "   --------- ------------------------------ 37.4/159.7 MB 17.2 MB/s eta 0:00:08\n",
      "   --------- ------------------------------ 38.2/159.7 MB 17.7 MB/s eta 0:00:07\n",
      "   --------- ------------------------------ 39.2/159.7 MB 17.7 MB/s eta 0:00:07\n",
      "   --------- ------------------------------ 39.9/159.7 MB 17.2 MB/s eta 0:00:07\n",
      "   ---------- ----------------------------- 40.5/159.7 MB 17.2 MB/s eta 0:00:07\n",
      "   ---------- ----------------------------- 41.1/159.7 MB 16.8 MB/s eta 0:00:08\n",
      "   ---------- ----------------------------- 42.2/159.7 MB 17.3 MB/s eta 0:00:07\n",
      "   ---------- ----------------------------- 42.7/159.7 MB 16.8 MB/s eta 0:00:07\n",
      "   ---------- ----------------------------- 43.8/159.7 MB 17.2 MB/s eta 0:00:07\n",
      "   ----------- ---------------------------- 44.5/159.7 MB 17.3 MB/s eta 0:00:07\n",
      "   ----------- ---------------------------- 45.4/159.7 MB 17.7 MB/s eta 0:00:07\n",
      "   ----------- ---------------------------- 45.9/159.7 MB 16.8 MB/s eta 0:00:07\n",
      "   ----------- ---------------------------- 46.7/159.7 MB 16.8 MB/s eta 0:00:07\n",
      "   ----------- ---------------------------- 47.7/159.7 MB 17.2 MB/s eta 0:00:07\n",
      "   ------------ --------------------------- 48.5/159.7 MB 17.7 MB/s eta 0:00:07\n",
      "   ------------ --------------------------- 49.4/159.7 MB 17.2 MB/s eta 0:00:07\n",
      "   ------------ --------------------------- 50.1/159.7 MB 17.2 MB/s eta 0:00:07\n",
      "   ------------ --------------------------- 51.1/159.7 MB 18.2 MB/s eta 0:00:06\n",
      "   ------------ --------------------------- 51.6/159.7 MB 17.7 MB/s eta 0:00:07\n",
      "   ------------- -------------------------- 52.5/159.7 MB 17.2 MB/s eta 0:00:07\n",
      "   ------------- -------------------------- 52.9/159.7 MB 18.2 MB/s eta 0:00:06\n",
      "   ------------- -------------------------- 53.3/159.7 MB 16.4 MB/s eta 0:00:07\n",
      "   ------------- -------------------------- 54.1/159.7 MB 16.0 MB/s eta 0:00:07\n",
      "   ------------- -------------------------- 54.9/159.7 MB 16.0 MB/s eta 0:00:07\n",
      "   ------------- -------------------------- 54.9/159.7 MB 16.0 MB/s eta 0:00:07\n",
      "   ------------- -------------------------- 55.4/159.7 MB 14.6 MB/s eta 0:00:08\n",
      "   -------------- ------------------------- 56.2/159.7 MB 14.9 MB/s eta 0:00:07\n",
      "   -------------- ------------------------- 57.0/159.7 MB 15.2 MB/s eta 0:00:07\n",
      "   -------------- ------------------------- 57.8/159.7 MB 14.6 MB/s eta 0:00:08\n",
      "   -------------- ------------------------- 58.4/159.7 MB 14.6 MB/s eta 0:00:07\n",
      "   -------------- ------------------------- 59.3/159.7 MB 14.2 MB/s eta 0:00:08\n",
      "   --------------- ------------------------ 60.2/159.7 MB 14.6 MB/s eta 0:00:07\n",
      "   --------------- ------------------------ 60.9/159.7 MB 14.6 MB/s eta 0:00:07\n",
      "   --------------- ------------------------ 61.7/159.7 MB 14.6 MB/s eta 0:00:07\n",
      "   --------------- ------------------------ 62.7/159.7 MB 14.6 MB/s eta 0:00:07\n",
      "   --------------- ------------------------ 63.4/159.7 MB 16.0 MB/s eta 0:00:07\n",
      "   ---------------- ----------------------- 64.0/159.7 MB 15.6 MB/s eta 0:00:07\n",
      "   ---------------- ----------------------- 64.9/159.7 MB 15.2 MB/s eta 0:00:07\n",
      "   ---------------- ----------------------- 65.4/159.7 MB 16.8 MB/s eta 0:00:06\n",
      "   ---------------- ----------------------- 66.0/159.7 MB 16.8 MB/s eta 0:00:06\n",
      "   ---------------- ----------------------- 67.1/159.7 MB 16.8 MB/s eta 0:00:06\n",
      "   ---------------- ----------------------- 67.7/159.7 MB 16.8 MB/s eta 0:00:06\n",
      "   ----------------- ---------------------- 68.6/159.7 MB 16.8 MB/s eta 0:00:06\n",
      "   ----------------- ---------------------- 69.0/159.7 MB 17.3 MB/s eta 0:00:06\n",
      "   ----------------- ---------------------- 69.9/159.7 MB 16.4 MB/s eta 0:00:06\n",
      "   ----------------- ---------------------- 70.7/159.7 MB 16.0 MB/s eta 0:00:06\n",
      "   ----------------- ---------------------- 71.8/159.7 MB 16.8 MB/s eta 0:00:06\n",
      "   ------------------ --------------------- 72.6/159.7 MB 16.4 MB/s eta 0:00:06\n",
      "   ------------------ --------------------- 72.8/159.7 MB 15.6 MB/s eta 0:00:06\n",
      "   ------------------ --------------------- 73.2/159.7 MB 15.2 MB/s eta 0:00:06\n",
      "   ------------------ --------------------- 74.3/159.7 MB 16.4 MB/s eta 0:00:06\n",
      "   ------------------ --------------------- 75.1/159.7 MB 16.0 MB/s eta 0:00:06\n",
      "   ------------------ --------------------- 75.7/159.7 MB 16.4 MB/s eta 0:00:06\n",
      "   ------------------ --------------------- 75.8/159.7 MB 15.6 MB/s eta 0:00:06\n",
      "   ------------------- -------------------- 76.6/159.7 MB 14.9 MB/s eta 0:00:06\n",
      "   ------------------- -------------------- 77.4/159.7 MB 15.2 MB/s eta 0:00:06\n",
      "   ------------------- -------------------- 78.1/159.7 MB 15.2 MB/s eta 0:00:06\n",
      "   ------------------- -------------------- 78.8/159.7 MB 14.9 MB/s eta 0:00:06\n",
      "   ------------------- -------------------- 79.4/159.7 MB 15.2 MB/s eta 0:00:06\n",
      "   -------------------- ------------------- 80.2/159.7 MB 14.9 MB/s eta 0:00:06\n",
      "   -------------------- ------------------- 81.2/159.7 MB 15.2 MB/s eta 0:00:06\n",
      "   -------------------- ------------------- 82.0/159.7 MB 14.9 MB/s eta 0:00:06\n",
      "   -------------------- ------------------- 82.4/159.7 MB 14.9 MB/s eta 0:00:06\n",
      "   -------------------- ------------------- 83.0/159.7 MB 14.9 MB/s eta 0:00:06\n",
      "   -------------------- ------------------- 83.4/159.7 MB 15.2 MB/s eta 0:00:06\n",
      "   --------------------- ------------------ 84.3/159.7 MB 14.6 MB/s eta 0:00:06\n",
      "   --------------------- ------------------ 85.4/159.7 MB 14.9 MB/s eta 0:00:05\n",
      "   --------------------- ------------------ 86.3/159.7 MB 16.0 MB/s eta 0:00:05\n",
      "   --------------------- ------------------ 86.5/159.7 MB 16.0 MB/s eta 0:00:05\n",
      "   --------------------- ------------------ 87.0/159.7 MB 14.9 MB/s eta 0:00:05\n",
      "   --------------------- ------------------ 87.8/159.7 MB 14.9 MB/s eta 0:00:05\n",
      "   ---------------------- ----------------- 88.7/159.7 MB 15.2 MB/s eta 0:00:05\n",
      "   ---------------------- ----------------- 89.5/159.7 MB 15.6 MB/s eta 0:00:05\n",
      "   ---------------------- ----------------- 90.0/159.7 MB 15.6 MB/s eta 0:00:05\n",
      "   ---------------------- ----------------- 91.0/159.7 MB 15.2 MB/s eta 0:00:05\n",
      "   ---------------------- ----------------- 91.4/159.7 MB 15.2 MB/s eta 0:00:05\n",
      "   ----------------------- ---------------- 92.1/159.7 MB 14.9 MB/s eta 0:00:05\n",
      "   ----------------------- ---------------- 93.0/159.7 MB 15.6 MB/s eta 0:00:05\n",
      "   ----------------------- ---------------- 94.0/159.7 MB 16.4 MB/s eta 0:00:05\n",
      "   ----------------------- ---------------- 94.6/159.7 MB 16.4 MB/s eta 0:00:04\n",
      "   ----------------------- ---------------- 95.2/159.7 MB 15.6 MB/s eta 0:00:05\n",
      "   ------------------------ --------------- 96.3/159.7 MB 15.6 MB/s eta 0:00:05\n",
      "   ------------------------ --------------- 96.9/159.7 MB 16.4 MB/s eta 0:00:04\n",
      "   ------------------------ --------------- 97.2/159.7 MB 16.0 MB/s eta 0:00:04\n",
      "   ------------------------ --------------- 98.0/159.7 MB 16.0 MB/s eta 0:00:04\n",
      "   ------------------------ --------------- 98.9/159.7 MB 16.0 MB/s eta 0:00:04\n",
      "   ------------------------ --------------- 99.5/159.7 MB 15.6 MB/s eta 0:00:04\n",
      "   ------------------------ -------------- 100.5/159.7 MB 16.4 MB/s eta 0:00:04\n",
      "   ------------------------ -------------- 101.2/159.7 MB 15.6 MB/s eta 0:00:04\n",
      "   ------------------------ -------------- 101.7/159.7 MB 16.0 MB/s eta 0:00:04\n",
      "   ------------------------ -------------- 102.4/159.7 MB 16.0 MB/s eta 0:00:04\n",
      "   ------------------------- ------------- 103.4/159.7 MB 16.0 MB/s eta 0:00:04\n",
      "   ------------------------- ------------- 104.2/159.7 MB 15.6 MB/s eta 0:00:04\n",
      "   ------------------------- ------------- 105.0/159.7 MB 16.0 MB/s eta 0:00:04\n",
      "   ------------------------- ------------- 105.9/159.7 MB 16.8 MB/s eta 0:00:04\n",
      "   -------------------------- ------------ 106.6/159.7 MB 16.4 MB/s eta 0:00:04\n",
      "   -------------------------- ------------ 106.9/159.7 MB 16.0 MB/s eta 0:00:04\n",
      "   -------------------------- ------------ 108.1/159.7 MB 17.2 MB/s eta 0:00:03\n",
      "   -------------------------- ------------ 108.9/159.7 MB 16.8 MB/s eta 0:00:04\n",
      "   -------------------------- ------------ 109.7/159.7 MB 17.2 MB/s eta 0:00:03\n",
      "   -------------------------- ------------ 110.4/159.7 MB 16.8 MB/s eta 0:00:03\n",
      "   --------------------------- ----------- 111.3/159.7 MB 16.8 MB/s eta 0:00:03\n",
      "   --------------------------- ----------- 111.8/159.7 MB 16.8 MB/s eta 0:00:03\n",
      "   --------------------------- ----------- 112.7/159.7 MB 17.2 MB/s eta 0:00:03\n",
      "   --------------------------- ----------- 113.6/159.7 MB 17.3 MB/s eta 0:00:03\n",
      "   --------------------------- ----------- 114.4/159.7 MB 17.2 MB/s eta 0:00:03\n",
      "   ---------------------------- ---------- 115.2/159.7 MB 17.2 MB/s eta 0:00:03\n",
      "   ---------------------------- ---------- 116.0/159.7 MB 16.8 MB/s eta 0:00:03\n",
      "   ---------------------------- ---------- 116.8/159.7 MB 16.8 MB/s eta 0:00:03\n",
      "   ---------------------------- ---------- 117.3/159.7 MB 17.3 MB/s eta 0:00:03\n",
      "   ---------------------------- ---------- 118.4/159.7 MB 17.3 MB/s eta 0:00:03\n",
      "   ---------------------------- ---------- 118.8/159.7 MB 16.8 MB/s eta 0:00:03\n",
      "   ----------------------------- --------- 119.7/159.7 MB 16.4 MB/s eta 0:00:03\n",
      "   ----------------------------- --------- 120.7/159.7 MB 16.8 MB/s eta 0:00:03\n",
      "   ----------------------------- --------- 121.3/159.7 MB 16.8 MB/s eta 0:00:03\n",
      "   ----------------------------- --------- 122.3/159.7 MB 17.7 MB/s eta 0:00:03\n",
      "   ------------------------------ -------- 123.1/159.7 MB 17.2 MB/s eta 0:00:03\n",
      "   ------------------------------ -------- 124.0/159.7 MB 17.3 MB/s eta 0:00:03\n",
      "   ------------------------------ -------- 124.8/159.7 MB 17.2 MB/s eta 0:00:03\n",
      "   ------------------------------ -------- 125.4/159.7 MB 17.7 MB/s eta 0:00:02\n",
      "   ------------------------------ -------- 126.4/159.7 MB 17.7 MB/s eta 0:00:02\n",
      "   ------------------------------- ------- 127.2/159.7 MB 17.7 MB/s eta 0:00:02\n",
      "   ------------------------------- ------- 128.0/159.7 MB 17.7 MB/s eta 0:00:02\n",
      "   ------------------------------- ------- 128.9/159.7 MB 18.2 MB/s eta 0:00:02\n",
      "   ------------------------------- ------- 129.5/159.7 MB 17.7 MB/s eta 0:00:02\n",
      "   ------------------------------- ------- 130.4/159.7 MB 17.7 MB/s eta 0:00:02\n",
      "   -------------------------------- ------ 131.2/159.7 MB 17.7 MB/s eta 0:00:02\n",
      "   -------------------------------- ------ 132.1/159.7 MB 17.7 MB/s eta 0:00:02\n",
      "   -------------------------------- ------ 132.8/159.7 MB 17.7 MB/s eta 0:00:02\n",
      "   -------------------------------- ------ 133.7/159.7 MB 17.7 MB/s eta 0:00:02\n",
      "   -------------------------------- ------ 134.4/159.7 MB 18.2 MB/s eta 0:00:02\n",
      "   --------------------------------- ----- 135.2/159.7 MB 17.2 MB/s eta 0:00:02\n",
      "   --------------------------------- ----- 136.1/159.7 MB 17.7 MB/s eta 0:00:02\n",
      "   --------------------------------- ----- 136.9/159.7 MB 17.2 MB/s eta 0:00:02\n",
      "   --------------------------------- ----- 137.5/159.7 MB 17.7 MB/s eta 0:00:02\n",
      "   --------------------------------- ----- 137.9/159.7 MB 16.8 MB/s eta 0:00:02\n",
      "   --------------------------------- ----- 138.7/159.7 MB 16.4 MB/s eta 0:00:02\n",
      "   ---------------------------------- ---- 139.6/159.7 MB 16.8 MB/s eta 0:00:02\n",
      "   ---------------------------------- ---- 140.4/159.7 MB 16.8 MB/s eta 0:00:02\n",
      "   ---------------------------------- ---- 141.4/159.7 MB 16.8 MB/s eta 0:00:02\n",
      "   ---------------------------------- ---- 141.8/159.7 MB 16.4 MB/s eta 0:00:02\n",
      "   ---------------------------------- ---- 142.7/159.7 MB 16.0 MB/s eta 0:00:02\n",
      "   ----------------------------------- --- 143.7/159.7 MB 16.4 MB/s eta 0:00:01\n",
      "   ----------------------------------- --- 144.6/159.7 MB 16.8 MB/s eta 0:00:01\n",
      "   ----------------------------------- --- 145.3/159.7 MB 16.8 MB/s eta 0:00:01\n",
      "   ----------------------------------- --- 146.1/159.7 MB 16.4 MB/s eta 0:00:01\n",
      "   ----------------------------------- --- 146.9/159.7 MB 16.8 MB/s eta 0:00:01\n",
      "   ------------------------------------ -- 147.7/159.7 MB 17.7 MB/s eta 0:00:01\n",
      "   ------------------------------------ -- 148.7/159.7 MB 18.2 MB/s eta 0:00:01\n",
      "   ------------------------------------ -- 149.4/159.7 MB 17.7 MB/s eta 0:00:01\n",
      "   ------------------------------------ -- 150.3/159.7 MB 18.2 MB/s eta 0:00:01\n",
      "   ------------------------------------ -- 151.0/159.7 MB 17.7 MB/s eta 0:00:01\n",
      "   ------------------------------------- - 151.7/159.7 MB 17.2 MB/s eta 0:00:01\n",
      "   ------------------------------------- - 152.5/159.7 MB 17.7 MB/s eta 0:00:01\n",
      "   ------------------------------------- - 153.5/159.7 MB 18.2 MB/s eta 0:00:01\n",
      "   ------------------------------------- - 154.3/159.7 MB 17.7 MB/s eta 0:00:01\n",
      "   ------------------------------------- - 155.0/159.7 MB 17.3 MB/s eta 0:00:01\n",
      "   --------------------------------------  155.9/159.7 MB 17.7 MB/s eta 0:00:01\n",
      "   --------------------------------------  156.8/159.7 MB 17.7 MB/s eta 0:00:01\n",
      "   --------------------------------------  157.3/159.7 MB 17.2 MB/s eta 0:00:01\n",
      "   --------------------------------------  158.3/159.7 MB 17.2 MB/s eta 0:00:01\n",
      "   --------------------------------------  159.1/159.7 MB 17.7 MB/s eta 0:00:01\n",
      "   --------------------------------------  159.7/159.7 MB 17.7 MB/s eta 0:00:01\n",
      "   --------------------------------------  159.7/159.7 MB 17.7 MB/s eta 0:00:01\n",
      "   --------------------------------------  159.7/159.7 MB 17.7 MB/s eta 0:00:01\n",
      "   --------------------------------------  159.7/159.7 MB 17.7 MB/s eta 0:00:01\n",
      "   --------------------------------------  159.7/159.7 MB 17.7 MB/s eta 0:00:01\n",
      "   --------------------------------------  159.7/159.7 MB 17.7 MB/s eta 0:00:01\n",
      "   --------------------------------------  159.7/159.7 MB 17.7 MB/s eta 0:00:01\n",
      "   --------------------------------------  159.7/159.7 MB 17.7 MB/s eta 0:00:01\n",
      "   --------------------------------------- 159.7/159.7 MB 10.7 MB/s eta 0:00:00\n",
      "Using cached contourpy-1.2.1-cp312-cp312-win_amd64.whl (189 kB)\n",
      "Downloading mkl-2021.4.0-py2.py3-none-win_amd64.whl (228.5 MB)\n",
      "   ---------------------------------------- 0.0/228.5 MB ? eta -:--:--\n",
      "   ---------------------------------------- 0.9/228.5 MB 56.3 MB/s eta 0:00:05\n",
      "   ---------------------------------------- 1.5/228.5 MB 19.6 MB/s eta 0:00:12\n",
      "   ---------------------------------------- 2.3/228.5 MB 18.3 MB/s eta 0:00:13\n",
      "    --------------------------------------- 3.1/228.5 MB 17.7 MB/s eta 0:00:13\n",
      "    --------------------------------------- 3.4/228.5 MB 15.5 MB/s eta 0:00:15\n",
      "    --------------------------------------- 4.2/228.5 MB 15.6 MB/s eta 0:00:15\n",
      "    --------------------------------------- 4.8/228.5 MB 16.2 MB/s eta 0:00:14\n",
      "    --------------------------------------- 5.1/228.5 MB 14.7 MB/s eta 0:00:16\n",
      "    --------------------------------------- 5.3/228.5 MB 13.6 MB/s eta 0:00:17\n",
      "   - -------------------------------------- 6.0/228.5 MB 13.2 MB/s eta 0:00:17\n",
      "   - -------------------------------------- 6.5/228.5 MB 13.0 MB/s eta 0:00:18\n",
      "   - -------------------------------------- 7.6/228.5 MB 13.8 MB/s eta 0:00:16\n",
      "   - -------------------------------------- 8.4/228.5 MB 14.1 MB/s eta 0:00:16\n",
      "   - -------------------------------------- 9.0/228.5 MB 14.1 MB/s eta 0:00:16\n",
      "   - -------------------------------------- 9.9/228.5 MB 14.4 MB/s eta 0:00:16\n",
      "   - -------------------------------------- 10.3/228.5 MB 14.2 MB/s eta 0:00:16\n",
      "   - -------------------------------------- 11.3/228.5 MB 13.6 MB/s eta 0:00:16\n",
      "   -- ------------------------------------- 11.9/228.5 MB 13.9 MB/s eta 0:00:16\n",
      "   -- ------------------------------------- 12.7/228.5 MB 13.9 MB/s eta 0:00:16\n",
      "   -- ------------------------------------- 13.0/228.5 MB 13.1 MB/s eta 0:00:17\n",
      "   -- ------------------------------------- 13.6/228.5 MB 13.6 MB/s eta 0:00:16\n",
      "   -- ------------------------------------- 14.7/228.5 MB 13.9 MB/s eta 0:00:16\n",
      "   -- ------------------------------------- 15.3/228.5 MB 14.9 MB/s eta 0:00:15\n",
      "   -- ------------------------------------- 15.9/228.5 MB 15.2 MB/s eta 0:00:14\n",
      "   -- ------------------------------------- 16.7/228.5 MB 15.6 MB/s eta 0:00:14\n",
      "   --- ------------------------------------ 17.7/228.5 MB 15.6 MB/s eta 0:00:14\n",
      "   --- ------------------------------------ 18.4/228.5 MB 15.2 MB/s eta 0:00:14\n",
      "   --- ------------------------------------ 19.2/228.5 MB 16.0 MB/s eta 0:00:14\n",
      "   --- ------------------------------------ 20.2/228.5 MB 16.0 MB/s eta 0:00:14\n",
      "   --- ------------------------------------ 20.9/228.5 MB 16.8 MB/s eta 0:00:13\n",
      "   --- ------------------------------------ 21.5/228.5 MB 16.0 MB/s eta 0:00:13\n",
      "   --- ------------------------------------ 22.2/228.5 MB 16.4 MB/s eta 0:00:13\n",
      "   ---- ----------------------------------- 23.2/228.5 MB 17.3 MB/s eta 0:00:12\n",
      "   ---- ----------------------------------- 24.1/228.5 MB 17.3 MB/s eta 0:00:12\n",
      "   ---- ----------------------------------- 24.6/228.5 MB 16.4 MB/s eta 0:00:13\n",
      "   ---- ----------------------------------- 25.4/228.5 MB 16.8 MB/s eta 0:00:13\n",
      "   ---- ----------------------------------- 26.4/228.5 MB 18.2 MB/s eta 0:00:12\n",
      "   ---- ----------------------------------- 27.0/228.5 MB 17.2 MB/s eta 0:00:12\n",
      "   ---- ----------------------------------- 27.9/228.5 MB 17.2 MB/s eta 0:00:12\n",
      "   ----- ---------------------------------- 28.6/228.5 MB 17.2 MB/s eta 0:00:12\n",
      "   ----- ---------------------------------- 29.3/228.5 MB 16.8 MB/s eta 0:00:12\n",
      "   ----- ---------------------------------- 30.1/228.5 MB 16.8 MB/s eta 0:00:12\n",
      "   ----- ---------------------------------- 30.7/228.5 MB 16.0 MB/s eta 0:00:13\n",
      "   ----- ---------------------------------- 31.6/228.5 MB 17.3 MB/s eta 0:00:12\n",
      "   ----- ---------------------------------- 32.2/228.5 MB 16.8 MB/s eta 0:00:12\n",
      "   ----- ---------------------------------- 33.3/228.5 MB 17.2 MB/s eta 0:00:12\n",
      "   ----- ---------------------------------- 34.0/228.5 MB 16.8 MB/s eta 0:00:12\n",
      "   ------ --------------------------------- 34.6/228.5 MB 16.8 MB/s eta 0:00:12\n",
      "   ------ --------------------------------- 35.6/228.5 MB 17.2 MB/s eta 0:00:12\n",
      "   ------ --------------------------------- 36.5/228.5 MB 16.8 MB/s eta 0:00:12\n",
      "   ------ --------------------------------- 37.2/228.5 MB 17.2 MB/s eta 0:00:12\n",
      "   ------ --------------------------------- 38.1/228.5 MB 17.3 MB/s eta 0:00:12\n",
      "   ------ --------------------------------- 38.7/228.5 MB 16.8 MB/s eta 0:00:12\n",
      "   ------ --------------------------------- 39.5/228.5 MB 16.8 MB/s eta 0:00:12\n",
      "   ------- -------------------------------- 40.5/228.5 MB 17.2 MB/s eta 0:00:11\n",
      "   ------- -------------------------------- 41.3/228.5 MB 17.2 MB/s eta 0:00:11\n",
      "   ------- -------------------------------- 42.0/228.5 MB 17.7 MB/s eta 0:00:11\n",
      "   ------- -------------------------------- 42.9/228.5 MB 17.2 MB/s eta 0:00:11\n",
      "   ------- -------------------------------- 43.7/228.5 MB 17.2 MB/s eta 0:00:11\n",
      "   ------- -------------------------------- 44.2/228.5 MB 17.3 MB/s eta 0:00:11\n",
      "   ------- -------------------------------- 45.1/228.5 MB 16.8 MB/s eta 0:00:11\n",
      "   -------- ------------------------------- 45.9/228.5 MB 16.8 MB/s eta 0:00:11\n",
      "   -------- ------------------------------- 46.8/228.5 MB 17.7 MB/s eta 0:00:11\n",
      "   -------- ------------------------------- 47.6/228.5 MB 17.7 MB/s eta 0:00:11\n",
      "   -------- ------------------------------- 48.3/228.5 MB 17.2 MB/s eta 0:00:11\n",
      "   -------- ------------------------------- 49.0/228.5 MB 17.7 MB/s eta 0:00:11\n",
      "   -------- ------------------------------- 49.6/228.5 MB 17.2 MB/s eta 0:00:11\n",
      "   -------- ------------------------------- 50.7/228.5 MB 17.2 MB/s eta 0:00:11\n",
      "   --------- ------------------------------ 51.5/228.5 MB 17.2 MB/s eta 0:00:11\n",
      "   --------- ------------------------------ 52.1/228.5 MB 16.8 MB/s eta 0:00:11\n",
      "   --------- ------------------------------ 52.8/228.5 MB 16.8 MB/s eta 0:00:11\n",
      "   --------- ------------------------------ 52.9/228.5 MB 16.8 MB/s eta 0:00:11\n",
      "   --------- ------------------------------ 53.7/228.5 MB 15.6 MB/s eta 0:00:12\n",
      "   --------- ------------------------------ 54.5/228.5 MB 16.4 MB/s eta 0:00:11\n",
      "   --------- ------------------------------ 55.4/228.5 MB 16.0 MB/s eta 0:00:11\n",
      "   --------- ------------------------------ 56.0/228.5 MB 16.0 MB/s eta 0:00:11\n",
      "   ---------- ----------------------------- 57.1/228.5 MB 16.0 MB/s eta 0:00:11\n",
      "   ---------- ----------------------------- 57.7/228.5 MB 15.6 MB/s eta 0:00:11\n",
      "   ---------- ----------------------------- 58.6/228.5 MB 16.0 MB/s eta 0:00:11\n",
      "   ---------- ----------------------------- 59.0/228.5 MB 15.6 MB/s eta 0:00:11\n",
      "   ---------- ----------------------------- 59.2/228.5 MB 14.5 MB/s eta 0:00:12\n",
      "   ---------- ----------------------------- 59.5/228.5 MB 14.2 MB/s eta 0:00:12\n",
      "   ---------- ----------------------------- 60.3/228.5 MB 14.6 MB/s eta 0:00:12\n",
      "   ---------- ----------------------------- 61.0/228.5 MB 14.2 MB/s eta 0:00:12\n",
      "   ---------- ----------------------------- 61.8/228.5 MB 14.2 MB/s eta 0:00:12\n",
      "   ---------- ----------------------------- 62.5/228.5 MB 14.2 MB/s eta 0:00:12\n",
      "   ----------- ---------------------------- 63.2/228.5 MB 15.6 MB/s eta 0:00:11\n",
      "   ----------- ---------------------------- 64.0/228.5 MB 14.9 MB/s eta 0:00:12\n",
      "   ----------- ---------------------------- 64.9/228.5 MB 15.2 MB/s eta 0:00:11\n",
      "   ----------- ---------------------------- 66.0/228.5 MB 15.2 MB/s eta 0:00:11\n",
      "   ----------- ---------------------------- 66.4/228.5 MB 14.9 MB/s eta 0:00:11\n",
      "   ----------- ---------------------------- 66.8/228.5 MB 14.2 MB/s eta 0:00:12\n",
      "   ----------- ---------------------------- 67.6/228.5 MB 14.9 MB/s eta 0:00:11\n",
      "   ------------ --------------------------- 68.6/228.5 MB 14.2 MB/s eta 0:00:12\n",
      "   ------------ --------------------------- 69.6/228.5 MB 16.4 MB/s eta 0:00:10\n",
      "   ------------ --------------------------- 70.0/228.5 MB 16.4 MB/s eta 0:00:10\n",
      "   ------------ --------------------------- 71.1/228.5 MB 16.4 MB/s eta 0:00:10\n",
      "   ------------ --------------------------- 71.7/228.5 MB 16.0 MB/s eta 0:00:10\n",
      "   ------------ --------------------------- 72.6/228.5 MB 17.2 MB/s eta 0:00:10\n",
      "   ------------ --------------------------- 73.5/228.5 MB 17.2 MB/s eta 0:00:10\n",
      "   ------------ --------------------------- 74.1/228.5 MB 16.8 MB/s eta 0:00:10\n",
      "   ------------- -------------------------- 74.7/228.5 MB 16.4 MB/s eta 0:00:10\n",
      "   ------------- -------------------------- 75.9/228.5 MB 16.8 MB/s eta 0:00:10\n",
      "   ------------- -------------------------- 76.6/228.5 MB 17.2 MB/s eta 0:00:09\n",
      "   ------------- -------------------------- 77.3/228.5 MB 17.7 MB/s eta 0:00:09\n",
      "   ------------- -------------------------- 78.2/228.5 MB 17.7 MB/s eta 0:00:09\n",
      "   ------------- -------------------------- 78.9/228.5 MB 17.2 MB/s eta 0:00:09\n",
      "   ------------- -------------------------- 79.2/228.5 MB 17.3 MB/s eta 0:00:09\n",
      "   -------------- ------------------------- 80.2/228.5 MB 16.8 MB/s eta 0:00:09\n",
      "   -------------- ------------------------- 81.1/228.5 MB 16.8 MB/s eta 0:00:09\n",
      "   -------------- ------------------------- 81.7/228.5 MB 17.2 MB/s eta 0:00:09\n",
      "   -------------- ------------------------- 82.3/228.5 MB 16.4 MB/s eta 0:00:09\n",
      "   -------------- ------------------------- 83.0/228.5 MB 16.0 MB/s eta 0:00:10\n",
      "   -------------- ------------------------- 83.7/228.5 MB 15.6 MB/s eta 0:00:10\n",
      "   -------------- ------------------------- 84.2/228.5 MB 16.0 MB/s eta 0:00:10\n",
      "   -------------- ------------------------- 84.8/228.5 MB 15.6 MB/s eta 0:00:10\n",
      "   --------------- ------------------------ 86.0/228.5 MB 15.6 MB/s eta 0:00:10\n",
      "   --------------- ------------------------ 86.6/228.5 MB 16.0 MB/s eta 0:00:09\n",
      "   --------------- ------------------------ 87.3/228.5 MB 15.6 MB/s eta 0:00:10\n",
      "   --------------- ------------------------ 88.2/228.5 MB 15.6 MB/s eta 0:00:09\n",
      "   --------------- ------------------------ 88.8/228.5 MB 15.6 MB/s eta 0:00:09\n",
      "   --------------- ------------------------ 89.8/228.5 MB 16.4 MB/s eta 0:00:09\n",
      "   --------------- ------------------------ 90.5/228.5 MB 16.4 MB/s eta 0:00:09\n",
      "   --------------- ------------------------ 91.2/228.5 MB 16.0 MB/s eta 0:00:09\n",
      "   ---------------- ----------------------- 92.2/228.5 MB 16.4 MB/s eta 0:00:09\n",
      "   ---------------- ----------------------- 92.9/228.5 MB 16.8 MB/s eta 0:00:09\n",
      "   ---------------- ----------------------- 93.5/228.5 MB 16.4 MB/s eta 0:00:09\n",
      "   ---------------- ----------------------- 94.3/228.5 MB 17.2 MB/s eta 0:00:08\n",
      "   ---------------- ----------------------- 94.6/228.5 MB 16.4 MB/s eta 0:00:09\n",
      "   ---------------- ----------------------- 95.6/228.5 MB 16.4 MB/s eta 0:00:09\n",
      "   ---------------- ----------------------- 96.3/228.5 MB 16.8 MB/s eta 0:00:08\n",
      "   ----------------- ---------------------- 97.2/228.5 MB 16.4 MB/s eta 0:00:09\n",
      "   ----------------- ---------------------- 97.9/228.5 MB 16.8 MB/s eta 0:00:08\n",
      "   ----------------- ---------------------- 98.7/228.5 MB 16.4 MB/s eta 0:00:08\n",
      "   ----------------- ---------------------- 99.8/228.5 MB 16.8 MB/s eta 0:00:08\n",
      "   ----------------- --------------------- 100.4/228.5 MB 16.4 MB/s eta 0:00:08\n",
      "   ----------------- --------------------- 101.2/228.5 MB 16.4 MB/s eta 0:00:08\n",
      "   ----------------- --------------------- 102.1/228.5 MB 16.4 MB/s eta 0:00:08\n",
      "   ----------------- --------------------- 102.7/228.5 MB 16.4 MB/s eta 0:00:08\n",
      "   ----------------- --------------------- 103.7/228.5 MB 16.8 MB/s eta 0:00:08\n",
      "   ----------------- --------------------- 104.6/228.5 MB 17.7 MB/s eta 0:00:07\n",
      "   ----------------- --------------------- 105.3/228.5 MB 17.7 MB/s eta 0:00:07\n",
      "   ------------------ -------------------- 106.1/228.5 MB 17.7 MB/s eta 0:00:07\n",
      "   ------------------ -------------------- 106.9/228.5 MB 17.3 MB/s eta 0:00:08\n",
      "   ------------------ -------------------- 107.6/228.5 MB 17.7 MB/s eta 0:00:07\n",
      "   ------------------ -------------------- 108.5/228.5 MB 17.2 MB/s eta 0:00:07\n",
      "   ------------------ -------------------- 109.4/228.5 MB 17.2 MB/s eta 0:00:07\n",
      "   ------------------ -------------------- 110.0/228.5 MB 17.7 MB/s eta 0:00:07\n",
      "   ------------------ -------------------- 110.8/228.5 MB 17.7 MB/s eta 0:00:07\n",
      "   ------------------- ------------------- 111.6/228.5 MB 17.2 MB/s eta 0:00:07\n",
      "   ------------------- ------------------- 112.3/228.5 MB 17.2 MB/s eta 0:00:07\n",
      "   ------------------- ------------------- 113.0/228.5 MB 17.2 MB/s eta 0:00:07\n",
      "   ------------------- ------------------- 113.9/228.5 MB 17.2 MB/s eta 0:00:07\n",
      "   ------------------- ------------------- 114.9/228.5 MB 17.2 MB/s eta 0:00:07\n",
      "   ------------------- ------------------- 115.6/228.5 MB 17.3 MB/s eta 0:00:07\n",
      "   ------------------- ------------------- 116.3/228.5 MB 16.8 MB/s eta 0:00:07\n",
      "   -------------------- ------------------ 117.3/228.5 MB 17.2 MB/s eta 0:00:07\n",
      "   -------------------- ------------------ 117.8/228.5 MB 17.3 MB/s eta 0:00:07\n",
      "   -------------------- ------------------ 118.6/228.5 MB 16.8 MB/s eta 0:00:07\n",
      "   -------------------- ------------------ 119.5/228.5 MB 16.8 MB/s eta 0:00:07\n",
      "   -------------------- ------------------ 120.3/228.5 MB 17.7 MB/s eta 0:00:07\n",
      "   -------------------- ------------------ 121.3/228.5 MB 17.2 MB/s eta 0:00:07\n",
      "   -------------------- ------------------ 122.1/228.5 MB 17.7 MB/s eta 0:00:07\n",
      "   -------------------- ------------------ 122.6/228.5 MB 17.3 MB/s eta 0:00:07\n",
      "   --------------------- ----------------- 123.6/228.5 MB 17.2 MB/s eta 0:00:07\n",
      "   --------------------- ----------------- 124.3/228.5 MB 17.2 MB/s eta 0:00:07\n",
      "   --------------------- ----------------- 125.1/228.5 MB 16.8 MB/s eta 0:00:07\n",
      "   --------------------- ----------------- 125.9/228.5 MB 17.2 MB/s eta 0:00:06\n",
      "   --------------------- ----------------- 126.8/228.5 MB 17.2 MB/s eta 0:00:06\n",
      "   --------------------- ----------------- 127.5/228.5 MB 17.2 MB/s eta 0:00:06\n",
      "   --------------------- ----------------- 128.3/228.5 MB 17.7 MB/s eta 0:00:06\n",
      "   ---------------------- ---------------- 129.1/228.5 MB 17.3 MB/s eta 0:00:06\n",
      "   ---------------------- ---------------- 129.9/228.5 MB 17.7 MB/s eta 0:00:06\n",
      "   ---------------------- ---------------- 130.4/228.5 MB 16.8 MB/s eta 0:00:06\n",
      "   ---------------------- ---------------- 131.1/228.5 MB 16.8 MB/s eta 0:00:06\n",
      "   ---------------------- ---------------- 131.9/228.5 MB 16.8 MB/s eta 0:00:06\n",
      "   ---------------------- ---------------- 133.0/228.5 MB 17.2 MB/s eta 0:00:06\n",
      "   ---------------------- ---------------- 133.7/228.5 MB 17.2 MB/s eta 0:00:06\n",
      "   ---------------------- ---------------- 134.5/228.5 MB 17.2 MB/s eta 0:00:06\n",
      "   ----------------------- --------------- 135.3/228.5 MB 17.2 MB/s eta 0:00:06\n",
      "   ----------------------- --------------- 136.1/228.5 MB 17.2 MB/s eta 0:00:06\n",
      "   ----------------------- --------------- 136.7/228.5 MB 16.8 MB/s eta 0:00:06\n",
      "   ----------------------- --------------- 137.4/228.5 MB 16.8 MB/s eta 0:00:06\n",
      "   ----------------------- --------------- 138.1/228.5 MB 16.8 MB/s eta 0:00:06\n",
      "   ----------------------- --------------- 138.8/228.5 MB 16.0 MB/s eta 0:00:06\n",
      "   ----------------------- --------------- 139.5/228.5 MB 16.0 MB/s eta 0:00:06\n",
      "   ----------------------- --------------- 140.4/228.5 MB 16.4 MB/s eta 0:00:06\n",
      "   ------------------------ -------------- 141.2/228.5 MB 16.8 MB/s eta 0:00:06\n",
      "   ------------------------ -------------- 142.2/228.5 MB 17.2 MB/s eta 0:00:06\n",
      "   ------------------------ -------------- 143.0/228.5 MB 16.8 MB/s eta 0:00:06\n",
      "   ------------------------ -------------- 143.6/228.5 MB 16.8 MB/s eta 0:00:06\n",
      "   ------------------------ -------------- 144.6/228.5 MB 16.8 MB/s eta 0:00:05\n",
      "   ------------------------ -------------- 145.5/228.5 MB 16.8 MB/s eta 0:00:05\n",
      "   ------------------------ -------------- 146.3/228.5 MB 17.2 MB/s eta 0:00:05\n",
      "   ------------------------- ------------- 147.0/228.5 MB 17.2 MB/s eta 0:00:05\n",
      "   ------------------------- ------------- 147.8/228.5 MB 17.2 MB/s eta 0:00:05\n",
      "   ------------------------- ------------- 148.4/228.5 MB 17.2 MB/s eta 0:00:05\n",
      "   ------------------------- ------------- 149.4/228.5 MB 17.7 MB/s eta 0:00:05\n",
      "   ------------------------- ------------- 150.0/228.5 MB 17.7 MB/s eta 0:00:05\n",
      "   ------------------------- ------------- 150.9/228.5 MB 17.7 MB/s eta 0:00:05\n",
      "   ------------------------- ------------- 151.5/228.5 MB 17.3 MB/s eta 0:00:05\n",
      "   -------------------------- ------------ 152.6/228.5 MB 17.7 MB/s eta 0:00:05\n",
      "   -------------------------- ------------ 153.2/228.5 MB 17.2 MB/s eta 0:00:05\n",
      "   -------------------------- ------------ 154.1/228.5 MB 17.7 MB/s eta 0:00:05\n",
      "   -------------------------- ------------ 154.8/228.5 MB 17.2 MB/s eta 0:00:05\n",
      "   -------------------------- ------------ 155.8/228.5 MB 17.2 MB/s eta 0:00:05\n",
      "   -------------------------- ------------ 156.5/228.5 MB 17.2 MB/s eta 0:00:05\n",
      "   -------------------------- ------------ 157.3/228.5 MB 17.2 MB/s eta 0:00:05\n",
      "   -------------------------- ------------ 158.1/228.5 MB 17.3 MB/s eta 0:00:05\n",
      "   --------------------------- ----------- 159.0/228.5 MB 17.7 MB/s eta 0:00:04\n",
      "   --------------------------- ----------- 159.6/228.5 MB 17.2 MB/s eta 0:00:05\n",
      "   --------------------------- ----------- 160.4/228.5 MB 17.7 MB/s eta 0:00:04\n",
      "   --------------------------- ----------- 161.3/228.5 MB 17.7 MB/s eta 0:00:04\n",
      "   --------------------------- ----------- 162.0/228.5 MB 17.7 MB/s eta 0:00:04\n",
      "   --------------------------- ----------- 163.0/228.5 MB 17.2 MB/s eta 0:00:04\n",
      "   --------------------------- ----------- 163.7/228.5 MB 17.2 MB/s eta 0:00:04\n",
      "   ---------------------------- ---------- 164.6/228.5 MB 17.7 MB/s eta 0:00:04\n",
      "   ---------------------------- ---------- 165.3/228.5 MB 17.3 MB/s eta 0:00:04\n",
      "   ---------------------------- ---------- 166.1/228.5 MB 17.7 MB/s eta 0:00:04\n",
      "   ---------------------------- ---------- 167.0/228.5 MB 17.7 MB/s eta 0:00:04\n",
      "   ---------------------------- ---------- 167.6/228.5 MB 17.3 MB/s eta 0:00:04\n",
      "   ---------------------------- ---------- 168.6/228.5 MB 17.7 MB/s eta 0:00:04\n",
      "   ---------------------------- ---------- 169.3/228.5 MB 17.7 MB/s eta 0:00:04\n",
      "   ---------------------------- ---------- 169.6/228.5 MB 17.3 MB/s eta 0:00:04\n",
      "   ----------------------------- --------- 170.5/228.5 MB 16.8 MB/s eta 0:00:04\n",
      "   ----------------------------- --------- 171.4/228.5 MB 16.8 MB/s eta 0:00:04\n",
      "   ----------------------------- --------- 172.1/228.5 MB 17.2 MB/s eta 0:00:04\n",
      "   ----------------------------- --------- 172.8/228.5 MB 16.8 MB/s eta 0:00:04\n",
      "   ----------------------------- --------- 173.6/228.5 MB 16.4 MB/s eta 0:00:04\n",
      "   ----------------------------- --------- 174.5/228.5 MB 17.2 MB/s eta 0:00:04\n",
      "   ----------------------------- --------- 175.1/228.5 MB 16.8 MB/s eta 0:00:04\n",
      "   ------------------------------ -------- 175.8/228.5 MB 16.0 MB/s eta 0:00:04\n",
      "   ------------------------------ -------- 176.6/228.5 MB 16.8 MB/s eta 0:00:04\n",
      "   ------------------------------ -------- 177.7/228.5 MB 16.8 MB/s eta 0:00:04\n",
      "   ------------------------------ -------- 178.2/228.5 MB 16.0 MB/s eta 0:00:04\n",
      "   ------------------------------ -------- 178.5/228.5 MB 15.2 MB/s eta 0:00:04\n",
      "   ------------------------------ -------- 179.7/228.5 MB 16.0 MB/s eta 0:00:04\n",
      "   ------------------------------ -------- 180.5/228.5 MB 16.8 MB/s eta 0:00:03\n",
      "   ------------------------------ -------- 181.2/228.5 MB 16.4 MB/s eta 0:00:03\n",
      "   ------------------------------- ------- 181.9/228.5 MB 16.0 MB/s eta 0:00:03\n",
      "   ------------------------------- ------- 183.0/228.5 MB 16.8 MB/s eta 0:00:03\n",
      "   ------------------------------- ------- 183.7/228.5 MB 17.2 MB/s eta 0:00:03\n",
      "   ------------------------------- ------- 184.6/228.5 MB 16.8 MB/s eta 0:00:03\n",
      "   ------------------------------- ------- 185.4/228.5 MB 17.2 MB/s eta 0:00:03\n",
      "   ------------------------------- ------- 186.1/228.5 MB 17.2 MB/s eta 0:00:03\n",
      "   ------------------------------- ------- 186.8/228.5 MB 16.8 MB/s eta 0:00:03\n",
      "   -------------------------------- ------ 187.5/228.5 MB 16.8 MB/s eta 0:00:03\n",
      "   -------------------------------- ------ 188.2/228.5 MB 16.4 MB/s eta 0:00:03\n",
      "   -------------------------------- ------ 189.3/228.5 MB 17.7 MB/s eta 0:00:03\n",
      "   -------------------------------- ------ 189.9/228.5 MB 16.8 MB/s eta 0:00:03\n",
      "   -------------------------------- ------ 190.6/228.5 MB 16.8 MB/s eta 0:00:03\n",
      "   -------------------------------- ------ 191.0/228.5 MB 16.4 MB/s eta 0:00:03\n",
      "   -------------------------------- ------ 191.5/228.5 MB 15.6 MB/s eta 0:00:03\n",
      "   -------------------------------- ------ 192.3/228.5 MB 16.0 MB/s eta 0:00:03\n",
      "   -------------------------------- ------ 193.1/228.5 MB 16.0 MB/s eta 0:00:03\n",
      "   --------------------------------- ----- 194.1/228.5 MB 16.0 MB/s eta 0:00:03\n",
      "   --------------------------------- ----- 194.9/228.5 MB 16.0 MB/s eta 0:00:03\n",
      "   --------------------------------- ----- 195.8/228.5 MB 16.4 MB/s eta 0:00:02\n",
      "   --------------------------------- ----- 196.5/228.5 MB 16.0 MB/s eta 0:00:03\n",
      "   --------------------------------- ----- 197.3/228.5 MB 16.8 MB/s eta 0:00:02\n",
      "   --------------------------------- ----- 197.9/228.5 MB 16.4 MB/s eta 0:00:02\n",
      "   --------------------------------- ----- 198.7/228.5 MB 16.4 MB/s eta 0:00:02\n",
      "   ---------------------------------- ---- 199.6/228.5 MB 16.0 MB/s eta 0:00:02\n",
      "   ---------------------------------- ---- 200.6/228.5 MB 16.8 MB/s eta 0:00:02\n",
      "   ---------------------------------- ---- 201.3/228.5 MB 17.7 MB/s eta 0:00:02\n",
      "   ---------------------------------- ---- 202.2/228.5 MB 18.2 MB/s eta 0:00:02\n",
      "   ---------------------------------- ---- 203.1/228.5 MB 17.7 MB/s eta 0:00:02\n",
      "   ---------------------------------- ---- 203.8/228.5 MB 17.7 MB/s eta 0:00:02\n",
      "   ---------------------------------- ---- 204.3/228.5 MB 17.2 MB/s eta 0:00:02\n",
      "   ----------------------------------- --- 205.2/228.5 MB 17.2 MB/s eta 0:00:02\n",
      "   ----------------------------------- --- 206.3/228.5 MB 17.7 MB/s eta 0:00:02\n",
      "   ----------------------------------- --- 206.8/228.5 MB 17.2 MB/s eta 0:00:02\n",
      "   ----------------------------------- --- 207.3/228.5 MB 16.8 MB/s eta 0:00:02\n",
      "   ----------------------------------- --- 207.9/228.5 MB 16.8 MB/s eta 0:00:02\n",
      "   ----------------------------------- --- 208.8/228.5 MB 16.8 MB/s eta 0:00:02\n",
      "   ----------------------------------- --- 209.3/228.5 MB 16.8 MB/s eta 0:00:02\n",
      "   ----------------------------------- --- 210.1/228.5 MB 16.4 MB/s eta 0:00:02\n",
      "   ----------------------------------- --- 210.7/228.5 MB 15.6 MB/s eta 0:00:02\n",
      "   ------------------------------------ -- 211.5/228.5 MB 15.6 MB/s eta 0:00:02\n",
      "   ------------------------------------ -- 212.4/228.5 MB 16.0 MB/s eta 0:00:02\n",
      "   ------------------------------------ -- 212.9/228.5 MB 14.9 MB/s eta 0:00:02\n",
      "   ------------------------------------ -- 213.6/228.5 MB 15.2 MB/s eta 0:00:01\n",
      "   ------------------------------------ -- 214.4/228.5 MB 15.6 MB/s eta 0:00:01\n",
      "   ------------------------------------ -- 215.3/228.5 MB 15.2 MB/s eta 0:00:01\n",
      "   ------------------------------------ -- 216.1/228.5 MB 15.6 MB/s eta 0:00:01\n",
      "   ------------------------------------- - 216.9/228.5 MB 15.6 MB/s eta 0:00:01\n",
      "   ------------------------------------- - 217.6/228.5 MB 16.0 MB/s eta 0:00:01\n",
      "   ------------------------------------- - 218.6/228.5 MB 16.8 MB/s eta 0:00:01\n",
      "   ------------------------------------- - 219.4/228.5 MB 16.4 MB/s eta 0:00:01\n",
      "   ------------------------------------- - 220.1/228.5 MB 16.8 MB/s eta 0:00:01\n",
      "   ------------------------------------- - 220.6/228.5 MB 16.4 MB/s eta 0:00:01\n",
      "   ------------------------------------- - 221.1/228.5 MB 16.0 MB/s eta 0:00:01\n",
      "   ------------------------------------- - 221.7/228.5 MB 16.0 MB/s eta 0:00:01\n",
      "   ------------------------------------- - 222.3/228.5 MB 15.6 MB/s eta 0:00:01\n",
      "   --------------------------------------  222.7/228.5 MB 15.6 MB/s eta 0:00:01\n",
      "   --------------------------------------  223.8/228.5 MB 15.6 MB/s eta 0:00:01\n",
      "   --------------------------------------  224.5/228.5 MB 15.6 MB/s eta 0:00:01\n",
      "   --------------------------------------  225.3/228.5 MB 15.6 MB/s eta 0:00:01\n",
      "   --------------------------------------  225.9/228.5 MB 15.2 MB/s eta 0:00:01\n",
      "   --------------------------------------  226.9/228.5 MB 15.6 MB/s eta 0:00:01\n",
      "   --------------------------------------  227.7/228.5 MB 15.6 MB/s eta 0:00:01\n",
      "   --------------------------------------  228.3/228.5 MB 15.6 MB/s eta 0:00:01\n",
      "   --------------------------------------  228.5/228.5 MB 14.9 MB/s eta 0:00:01\n",
      "   --------------------------------------  228.5/228.5 MB 14.9 MB/s eta 0:00:01\n",
      "   --------------------------------------  228.5/228.5 MB 14.9 MB/s eta 0:00:01\n",
      "   --------------------------------------  228.5/228.5 MB 14.9 MB/s eta 0:00:01\n",
      "   --------------------------------------  228.5/228.5 MB 14.9 MB/s eta 0:00:01\n",
      "   --------------------------------------  228.5/228.5 MB 14.9 MB/s eta 0:00:01\n",
      "   --------------------------------------  228.5/228.5 MB 14.9 MB/s eta 0:00:01\n",
      "   --------------------------------------  228.5/228.5 MB 14.9 MB/s eta 0:00:01\n",
      "   --------------------------------------  228.5/228.5 MB 14.9 MB/s eta 0:00:01\n",
      "   --------------------------------------  228.5/228.5 MB 14.9 MB/s eta 0:00:01\n",
      "   ---------------------------------------- 228.5/228.5 MB 9.0 MB/s eta 0:00:00\n",
      "Downloading intel_openmp-2021.4.0-py2.py3-none-win_amd64.whl (3.5 MB)\n",
      "   ---------------------------------------- 0.0/3.5 MB ? eta -:--:--\n",
      "   ---------- ----------------------------- 0.9/3.5 MB 18.5 MB/s eta 0:00:01\n",
      "   ---------------- ----------------------- 1.4/3.5 MB 15.3 MB/s eta 0:00:01\n",
      "   -------------------------- ------------- 2.3/3.5 MB 16.4 MB/s eta 0:00:01\n",
      "   ------------------------------------- -- 3.3/3.5 MB 17.6 MB/s eta 0:00:01\n",
      "   ---------------------------------------- 3.5/3.5 MB 16.1 MB/s eta 0:00:00\n",
      "Downloading tbb-2021.12.0-py3-none-win_amd64.whl (286 kB)\n",
      "   ---------------------------------------- 0.0/286.4 kB ? eta -:--:--\n",
      "   --------------------------------------- 286.4/286.4 kB 17.3 MB/s eta 0:00:00\n",
      "Downloading typing_extensions-4.12.2-py3-none-any.whl (37 kB)\n",
      "Downloading filelock-3.14.0-py3-none-any.whl (12 kB)\n",
      "Downloading fsspec-2024.6.0-py3-none-any.whl (176 kB)\n",
      "   ---------------------------------------- 0.0/176.9 kB ? eta -:--:--\n",
      "   --------------------------------------- 176.9/176.9 kB 10.4 MB/s eta 0:00:00\n",
      "Downloading networkx-3.3-py3-none-any.whl (1.7 MB)\n",
      "   ---------------------------------------- 0.0/1.7 MB ? eta -:--:--\n",
      "   ------------------------- -------------- 1.1/1.7 MB 33.9 MB/s eta 0:00:01\n",
      "   ---------------------------------------  1.7/1.7 MB 21.4 MB/s eta 0:00:01\n",
      "   ---------------------------------------- 1.7/1.7 MB 18.0 MB/s eta 0:00:00\n",
      "Downloading sympy-1.12.1-py3-none-any.whl (5.7 MB)\n",
      "   ---------------------------------------- 0.0/5.7 MB ? eta -:--:--\n",
      "   ------- -------------------------------- 1.1/5.7 MB 22.7 MB/s eta 0:00:01\n",
      "   ---------- ----------------------------- 1.6/5.7 MB 20.0 MB/s eta 0:00:01\n",
      "   ----------------- ---------------------- 2.5/5.7 MB 17.7 MB/s eta 0:00:01\n",
      "   ----------------------- ---------------- 3.4/5.7 MB 19.7 MB/s eta 0:00:01\n",
      "   ----------------------------- ---------- 4.3/5.7 MB 18.3 MB/s eta 0:00:01\n",
      "   --------------------------------- ------ 4.8/5.7 MB 17.1 MB/s eta 0:00:01\n",
      "   -------------------------------------- - 5.5/5.7 MB 16.7 MB/s eta 0:00:01\n",
      "   ---------------------------------------- 5.7/5.7 MB 16.0 MB/s eta 0:00:00\n",
      "Downloading mpmath-1.3.0-py3-none-any.whl (536 kB)\n",
      "   ---------------------------------------- 0.0/536.2 kB ? eta -:--:--\n",
      "   --------------------------------------- 536.2/536.2 kB 16.4 MB/s eta 0:00:00\n",
      "Installing collected packages: tbb, mpmath, intel-openmp, typing-extensions, sympy, networkx, mkl, fsspec, filelock, contourpy, torch, scikit-learn, matplotlib\n",
      "Successfully installed contourpy-1.2.1 filelock-3.14.0 fsspec-2024.6.0 intel-openmp-2021.4.0 matplotlib-3.9.0 mkl-2021.4.0 mpmath-1.3.0 networkx-3.3 scikit-learn-1.5.0 sympy-1.12.1 tbb-2021.12.0 torch-2.3.1 typing-extensions-4.12.2\n"
     ]
    }
   ],
   "source": [
    "%pip install pandas matplotlib scikit-learn torch"
   ]
  },
  {
   "cell_type": "code",
   "execution_count": 49,
   "metadata": {},
   "outputs": [],
   "source": [
    "import numpy as np\n",
    "import pandas as pd\n",
    "import matplotlib.pyplot as plt\n",
    "from sklearn.model_selection import train_test_split\n",
    "import torch\n"
   ]
  },
  {
   "cell_type": "markdown",
   "metadata": {},
   "source": [
    "## Code formatting"
   ]
  },
  {
   "cell_type": "code",
   "execution_count": 50,
   "metadata": {},
   "outputs": [
    {
     "name": "stdout",
     "output_type": "stream",
     "text": [
      "0\n",
      "2\n",
      "4\n",
      "6\n",
      "8\n"
     ]
    }
   ],
   "source": [
    "# Good\n",
    "for i in range(10):\n",
    "    if i % 2 == 0:\n",
    "        print(i)\n"
   ]
  },
  {
   "cell_type": "code",
   "execution_count": null,
   "metadata": {},
   "outputs": [],
   "source": [
    "# Good -  Limit lines to a maximum of 79 characters\n",
    "#result = some_function(argument1, argument2, argument3)"
   ]
  },
  {
   "cell_type": "code",
   "execution_count": 51,
   "metadata": {},
   "outputs": [],
   "source": [
    "#\tBlank Lines: Use blank lines to separate functions and classes and to group related code within functions\n",
    "def preprocess_data(data):\n",
    "    # ... (Code for preprocessing)\n",
    "    return data\n",
    "\n",
    "def train_model(data):\n",
    "\t# ... (Code for training)\n",
    "    return data "
   ]
  },
  {
   "cell_type": "code",
   "execution_count": 53,
   "metadata": {},
   "outputs": [],
   "source": [
    "# Example of a docstring for a function\n",
    "def calculate_accuracy(y_true, y_pred):\n",
    "    \"\"\"\n",
    "    Calculates the accuracy of a model's predictions.\n",
    "\n",
    "    Args:\n",
    "        y_true: True target values.\n",
    "        y_pred: Predicted values.\n",
    "\n",
    "\t    Returns:\n",
    "\t        The accuracy score.\n",
    "\t    \"\"\"\n",
    "\t    # ... (Code for calculating accuracy)\n",
    "    return 0.9\n"
   ]
  },
  {
   "cell_type": "code",
   "execution_count": 60,
   "metadata": {},
   "outputs": [],
   "source": [
    "import numpy as np\n",
    "\n",
    "def calculate_loss(y_true, y_pred):\n",
    "    \"\"\"\n",
    "    Calculates the mean squared error loss between true - predicted values.\n",
    "\n",
    "    Args:\n",
    "        y_true: True target values.\n",
    "        y_pred: Predicted values.\n",
    "\n",
    "    Returns:\n",
    "\t        The mean squared error loss.\n",
    "    \"\"\"\n",
    "    return np.mean((y_true - y_pred) ** 2)"
   ]
  },
  {
   "cell_type": "markdown",
   "metadata": {},
   "source": [
    "## Object Oriented Programming"
   ]
  },
  {
   "cell_type": "code",
   "execution_count": 64,
   "metadata": {},
   "outputs": [],
   "source": [
    "class NeuralNetwork:\n",
    "    def __init__(self, num_layers, num_neurons):\n",
    "        self.num_layers = num_layers\n",
    "        self.num_neurons = num_neurons\n",
    "        # ... (Initialize weights and biases)\n",
    "\n",
    "    def forward(self, inputs):\n",
    "        # ... (Forward pass logic)\n",
    "        return 1\n",
    "\n",
    "    def backward(self, loss):\n",
    "\t    # ... (Backpropagation logic)\n",
    "        return 0\n"
   ]
  },
  {
   "cell_type": "code",
   "execution_count": 69,
   "metadata": {},
   "outputs": [],
   "source": [
    "class Model:\n",
    "    def __init__(self):\n",
    "        # ... (Initialize common model attributes)\n",
    "        super().__init__()\n",
    "\n",
    "    def fit(self, X, y):\n",
    "        # ... (Generic training logic)\n",
    "        print(\"Data is fit original implementation\")\n",
    "\n",
    "    def predict(self, X):\n",
    "        # ... (Generic prediction logic)\n",
    "        print(\"Data predicted\")\n",
    "\t\n",
    "class LinearRegression(Model):\n",
    "    def __init__(self):\n",
    "        # ... (Initialize specific linear regression attributes)\n",
    "        super().__init__()\n",
    "\t\n",
    "    def fit(self, X, y):\n",
    "        # ... (Specific linear regression training logic)\n",
    "        print(\"Data is fit, implementation from Linear Regression\")\n"
   ]
  },
  {
   "cell_type": "code",
   "execution_count": 73,
   "metadata": {},
   "outputs": [],
   "source": [
    "class DataPreprocessor:\n",
    "    def __init__(self, data):\n",
    "        self._data = data  # Protected attribute\n",
    "\n",
    "    def normalize(self):\n",
    "        # ... (Normalization logic)\n",
    "        print(\"Data is normalized\")\n",
    "\n",
    "    def clean(self):\n",
    "        # ... (Cleaning logic)\n",
    "        print(\"Data is cleaned\")\n",
    "        "
   ]
  },
  {
   "cell_type": "code",
   "execution_count": 70,
   "metadata": {},
   "outputs": [],
   "source": [
    "def train_model(model, optimizer, data):\n",
    "    # ...\n",
    "    optimizer.step()  # Works with any optimizer that has a step() method\n",
    "    # ...\n"
   ]
  }
 ],
 "metadata": {
  "kernelspec": {
   "display_name": "Python 3",
   "language": "python",
   "name": "python3"
  },
  "language_info": {
   "codemirror_mode": {
    "name": "ipython",
    "version": 3
   },
   "file_extension": ".py",
   "mimetype": "text/x-python",
   "name": "python",
   "nbconvert_exporter": "python",
   "pygments_lexer": "ipython3",
   "version": "3.12.3"
  }
 },
 "nbformat": 4,
 "nbformat_minor": 2
}
